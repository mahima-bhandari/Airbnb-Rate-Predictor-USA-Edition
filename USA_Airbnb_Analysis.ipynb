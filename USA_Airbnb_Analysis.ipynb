{
 "cells": [
  {
   "cell_type": "code",
   "execution_count": 1,
   "id": "2d2625fc-e752-4bae-b46d-5aaf5a314058",
   "metadata": {},
   "outputs": [],
   "source": [
    "import joblib"
   ]
  },
  {
   "cell_type": "code",
   "execution_count": 2,
   "id": "1b73f596-c25b-4399-b4c1-19cbe3ececad",
   "metadata": {},
   "outputs": [],
   "source": [
    "loaded_model = joblib.load('lmod.pk1')"
   ]
  },
  {
   "cell_type": "code",
   "execution_count": 3,
   "id": "84f28ce9-4912-4dbd-99ac-cb076f450a47",
   "metadata": {
    "scrolled": true
   },
   "outputs": [],
   "source": [
    "Avg_Area_Income = float(input('Enter the Average Area Income :'))\n",
    "Avg_Area_House_Age = float(input('Enter Average Area House Age :'))\n",
    "Avg_Area_Number_of_Rooms = float(input('Enter Average Area Number of Rooms :'))\n",
    "Avg_Area_Number_of_Bedrooms = float(input('Enter Average Area Number of Bedrooms :'))\n",
    "Area_Population = float(input('Average Area Population :'))"
   ]
  },
  {
   "cell_type": "code",
   "execution_count": 4,
   "id": "28c4bb9e-ad8f-4341-b370-bc42db511e39",
   "metadata": {},
   "outputs": [],
   "source": [
    "import numpy as np\n",
    "input_data = np.array([Avg_Area_Income, Avg_Area_House_Age, Avg_Area_Number_of_Rooms, Avg_Area_Number_of_Bedrooms, Area_Population]).reshape(1,-1)"
   ]
  },
  {
   "cell_type": "code",
   "execution_count": 5,
   "id": "437fa2c5-a76b-4e80-9082-1f3bb16991b8",
   "metadata": {},
   "outputs": [
    {
     "name": "stderr",
     "output_type": "stream",
     "text": [
      "C:\\Users\\measm\\AppData\\Roaming\\Python\\Python311\\site-packages\\sklearn\\base.py:465: UserWarning: X does not have valid feature names, but LinearRegression was fitted with feature names\n",
      "  warnings.warn(\n"
     ]
    }
   ],
   "source": [
    "predicted_price = loaded_model.predict(input_data)"
   ]
  },
  {
   "cell_type": "code",
   "execution_count": 6,
   "id": "357b6384-d9f8-4c0f-a785-a71c638b6105",
   "metadata": {},
   "outputs": [
    {
     "name": "stdout",
     "output_type": "stream",
     "text": [
      "[255064.60928462]\n"
     ]
    }
   ],
   "source": [
    "print(predicted_price)"
   ]
  }
 ],
 "metadata": {
  "kernelspec": {
   "display_name": "Python 3 (ipykernel)",
   "language": "python",
   "name": "python3"
  },
  "language_info": {
   "codemirror_mode": {
    "name": "ipython",
    "version": 3
   },
   "file_extension": ".py",
   "mimetype": "text/x-python",
   "name": "python",
   "nbconvert_exporter": "python",
   "pygments_lexer": "ipython3",
   "version": "3.11.3"
  }
 },
 "nbformat": 4,
 "nbformat_minor": 5
}
